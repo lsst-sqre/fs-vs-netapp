{
 "cells": [
  {
   "cell_type": "markdown",
   "id": "95f18a0d-fe46-4092-9f25-a772e4aaee0c",
   "metadata": {},
   "source": [
    "Comparison between Google Cloud NetApp Volumes and Filestore\n",
    "------------------------------------------------------------\n",
    "These tests were done on a Medium (2CPU, 8GB) instance on data-dev.lsst.cloud, with the `w_2025_07` image, using the default NFSv3 mount parameters `rw,relatime,vers=3,rsize=1048576,wsize=1048576,namlen=255,hard,proto=tcp,timeo=600,retrans=2,sec=sys,mountvers=3,mountproto=udp,local_lock=none` and iozone 3.507 with `iozone -Rac -g 16G`."
   ]
  },
  {
   "cell_type": "code",
   "execution_count": null,
   "id": "71a48372-ed36-408e-8ff8-04303de52b99",
   "metadata": {},
   "outputs": [],
   "source": [
    "import json\n",
    "import math\n",
    "from pathlib import Path\n",
    "from comparator import Comparator\n",
    "\n",
    "import plotly.express as px\n",
    "import plotly.graph_objects as go"
   ]
  },
  {
   "cell_type": "code",
   "execution_count": null,
   "id": "e480014b-ef19-44da-90ca-0bc3cc5c06d3",
   "metadata": {},
   "outputs": [],
   "source": [
    "c = Comparator()"
   ]
  },
  {
   "cell_type": "code",
   "execution_count": null,
   "id": "c87868cc-98da-4167-8b45-909186e703fc",
   "metadata": {},
   "outputs": [],
   "source": [
    "c.compare()"
   ]
  },
  {
   "cell_type": "code",
   "execution_count": null,
   "id": "38c9ffe6-a147-4070-bd77-de0ab324c031",
   "metadata": {},
   "outputs": [],
   "source": [
    "cmp = json.loads((Path(\"comparison\") / \"netapp-to-filestore-ratio.json\").read_text())"
   ]
  },
  {
   "cell_type": "code",
   "execution_count": null,
   "id": "fbeafa9c-0671-4650-8bce-6af7d025871c",
   "metadata": {},
   "outputs": [],
   "source": [
    "def plot_ratio(inp_data, category: str, filesize:str):\n",
    "    spec_data=inp_data[category][filesize]\n",
    "    xdata = [ int(x) for x in spec_data.keys() ]\n",
    "    ydata = [ x[\"ratio\"] for x in spec_data.values() ]\n",
    "    fig=px.line(x=xdata, y=ydata, log_x = True,\n",
    "           labels = { \"x\": \"blocksize in kB\",\n",
    "                      \"y\": \"Netapp-to-filestore performance ratio\" },\n",
    "            title = f\"{category} {filesize}kB file performance ratio\"\n",
    "           )\n",
    "    fig.show()\n"
   ]
  },
  {
   "cell_type": "code",
   "execution_count": null,
   "id": "392780db-62ba-43f0-8a6e-666d70279801",
   "metadata": {},
   "outputs": [],
   "source": [
    "def plot_bar(inp_data, category: str, filesize:str):\n",
    "    spec_data = inp_data[category][filesize]\n",
    "    xdata = [ math.log(int(x),2) for x in spec_data.keys()]\n",
    "    nadata = [ 1024 * x[\"netapp\"] for x in spec_data.values() ]\n",
    "    fsdata = [ 1024 * x[\"filestore\"] for x in spec_data.values() ]\n",
    "    fig = go.Figure(data=[\n",
    "        go.Bar(name=\"netapp\", x=xdata, y=nadata),\n",
    "        go.Bar(name=\"filestore\", x=xdata, y=fsdata)\n",
    "    ])\n",
    "    fig.update_layout(barmode=\"group\",\n",
    "                      title = f\"{category} {filesize}kB file performance\")\n",
    "    fig.update_xaxes(title={\"text\": \"log2(blocksize in kB)\"})\n",
    "    fig.update_yaxes(title={\"text\": \"bytes/s\"})\n",
    "    fig.show()\n",
    "    "
   ]
  },
  {
   "cell_type": "code",
   "execution_count": null,
   "id": "c833783c-4733-4cd6-9a77-bd55447e1d76",
   "metadata": {},
   "outputs": [],
   "source": [
    "categories=(\"reader\",\"writer\")\n",
    "# categories=(\"random-read\", \"random-write\")\n",
    "# categories=(\"stride-read\", \"record-rewrite\")\n",
    "for category in categories:\n",
    "    for filesize in cmp[category].keys():\n",
    "        # plot_ratio(cmp, category, filesize)\n",
    "        plot_bar(cmp, category, filesize)"
   ]
  }
 ],
 "metadata": {
  "kernelspec": {
   "display_name": "Python 3 (ipykernel)",
   "language": "python",
   "name": "python3"
  },
  "language_info": {
   "codemirror_mode": {
    "name": "ipython",
    "version": 3
   },
   "file_extension": ".py",
   "mimetype": "text/x-python",
   "name": "python",
   "nbconvert_exporter": "python",
   "pygments_lexer": "ipython3",
   "version": "3.13.2"
  }
 },
 "nbformat": 4,
 "nbformat_minor": 5
}
