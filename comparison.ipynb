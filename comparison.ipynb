{
 "cells": [
  {
   "cell_type": "code",
   "execution_count": 1,
   "id": "71a48372-ed36-408e-8ff8-04303de52b99",
   "metadata": {
    "execution": {
     "iopub.execute_input": "2025-02-27T02:42:33.975893Z",
     "iopub.status.busy": "2025-02-27T02:42:33.975732Z",
     "iopub.status.idle": "2025-02-27T02:42:33.984710Z",
     "shell.execute_reply": "2025-02-27T02:42:33.984232Z",
     "shell.execute_reply.started": "2025-02-27T02:42:33.975874Z"
    }
   },
   "outputs": [],
   "source": [
    "from pathlib import Path\n",
    "from comparator import Comparator"
   ]
  },
  {
   "cell_type": "code",
   "execution_count": 2,
   "id": "e480014b-ef19-44da-90ca-0bc3cc5c06d3",
   "metadata": {
    "execution": {
     "iopub.execute_input": "2025-02-27T02:42:33.985496Z",
     "iopub.status.busy": "2025-02-27T02:42:33.985335Z",
     "iopub.status.idle": "2025-02-27T02:42:34.001495Z",
     "shell.execute_reply": "2025-02-27T02:42:34.001192Z",
     "shell.execute_reply.started": "2025-02-27T02:42:33.985480Z"
    }
   },
   "outputs": [],
   "source": [
    "c = Comparator()"
   ]
  },
  {
   "cell_type": "code",
   "execution_count": 3,
   "id": "c87868cc-98da-4167-8b45-909186e703fc",
   "metadata": {
    "execution": {
     "iopub.execute_input": "2025-02-27T02:42:34.002881Z",
     "iopub.status.busy": "2025-02-27T02:42:34.002710Z",
     "iopub.status.idle": "2025-02-27T02:42:34.013751Z",
     "shell.execute_reply": "2025-02-27T02:42:34.013453Z",
     "shell.execute_reply.started": "2025-02-27T02:42:34.002868Z"
    }
   },
   "outputs": [],
   "source": [
    "c.compare()"
   ]
  },
  {
   "cell_type": "code",
   "execution_count": null,
   "id": "38c9ffe6-a147-4070-bd77-de0ab324c031",
   "metadata": {},
   "outputs": [],
   "source": [
    "cmp = Path(\"comparison\") / \"netapp-to"
   ]
  },
  {
   "cell_type": "code",
   "execution_count": null,
   "id": "3614bda0-9e59-4050-9d99-1ac2cb5dfbbd",
   "metadata": {},
   "outputs": [],
   "source": []
  }
 ],
 "metadata": {
  "kernelspec": {
   "display_name": "Python 3 (ipykernel)",
   "language": "python",
   "name": "python3"
  },
  "language_info": {
   "codemirror_mode": {
    "name": "ipython",
    "version": 3
   },
   "file_extension": ".py",
   "mimetype": "text/x-python",
   "name": "python",
   "nbconvert_exporter": "python",
   "pygments_lexer": "ipython3",
   "version": "3.13.2"
  }
 },
 "nbformat": 4,
 "nbformat_minor": 5
}
